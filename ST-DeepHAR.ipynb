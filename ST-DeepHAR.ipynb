{
 "cells": [
  {
   "cell_type": "code",
   "execution_count": null,
   "metadata": {
    "colab": {},
    "colab_type": "code",
    "id": "Uzd1MXskGjGn"
   },
   "outputs": [],
   "source": [
    "from keras.models import Model\n",
    "from keras.layers import Input, Dense, LSTM, multiply, concatenate, Activation, Masking, Reshape,add\n",
    "from keras.layers import Conv1D, BatchNormalization, GlobalAveragePooling1D, Permute, Dropout,GRU,GaussianNoise, Bidirectional\n",
    "from autopool import AutoPool1D\n",
    "from utils.constants import MAX_NB_VARIABLES, NB_CLASSES_LIST, MAX_TIMESTEPS_LIST\n",
    "from utils.keras_utils import train_model, evaluate_model, set_trainable\n",
    "from utils.layer_utils import AttentionLSTM\n"
   ]
  },
  {
   "cell_type": "code",
   "execution_count": null,
   "metadata": {
    "colab": {},
    "colab_type": "code",
    "id": "___fsj7JG2f_"
   },
   "outputs": [],
   "source": [
    "DATASET_INDEX = 11\n",
    "\n",
    "MAX_TIMESTEPS = MAX_TIMESTEPS_LIST[DATASET_INDEX]\n",
    "MAX_NB_VARIABLES = MAX_NB_VARIABLES[DATASET_INDEX]\n",
    "NB_CLASS = NB_CLASSES_LIST[DATASET_INDEX]\n",
    "\n",
    "TRAINABLE = True\n"
   ]
  },
  {
   "cell_type": "code",
   "execution_count": null,
   "metadata": {
    "colab": {},
    "colab_type": "code",
    "id": "bfGZd5biIWYC"
   },
   "outputs": [],
   "source": [
    "# ''' The adapted SE Layer for 1D sequential data'''\n",
    "def squeeze_excite_block(input):\n",
    "    ''' Create a squeeze-excite module\n",
    "    Args:\n",
    "        input: input tensor\n",
    "        filters: number of output filters\n",
    "        k: width factor\n",
    "    Returns: a keras tensor\n",
    "    '''\n",
    "    filters = input._keras_shape[-1] \n",
    "\n",
    "    se = GlobalAveragePooling1D()(input)\n",
    "    se = Reshape((1, filters))(se)\n",
    "    #dimensionality reduction\n",
    "    se = Dense(filters // 16,  activation='relu', kernel_initializer='he_normal', use_bias=False)(se)\n",
    "    #dimensionality expansion\n",
    "    se = Dense(filters, activation='sigmoid', kernel_initializer='he_normal', use_bias=False)(se)\n",
    "    # generating channel statistics\n",
    "    se = multiply([input, se])\n",
    "    return se"
   ]
  },
  {
   "cell_type": "markdown",
   "metadata": {},
   "source": [
    "# ST-DeepHAR"
   ]
  },
  {
   "cell_type": "code",
   "execution_count": null,
   "metadata": {
    "colab": {},
    "colab_type": "code",
    "id": "lZo35CxIHxNN"
   },
   "outputs": [],
   "source": [
    "def create_ST_DeepHAR():\n",
    "    ip = Input(shape=(MAX_NB_VARIABLES, MAX_TIMESTEPS))\n",
    "    stride = 3\n",
    "    \n",
    "   # ''' The First Path: An LSTM layer augmented with Attention meachanism to learn temporal data representation'''\n",
    "    x = Masking()(ip)\n",
    "    x = AttentionLSTM(16)(x)\n",
    "    x = Dropout(0.8)(x)\n",
    "\n",
    "    n_feature_maps = 64\n",
    "\n",
    "    # ''' The Second Path: A modified residual block is proposed to learn spatial data representation'''\n",
    "\n",
    "    pre = Permute((2, 1))(ip)\n",
    "    pre = Conv1D(filters=n_feature_maps,kernel_size=8, padding='same', kernel_initializer='he_uniform')(pre)\n",
    "    pre = BatchNormalization()(pre)\n",
    "    pre = Activation('relu')(pre)\n",
    "    \n",
    "    # '''The RESIDUAL BLOCK 1'''\n",
    "    conv_x = Conv1D(filters=n_feature_maps, kernel_size=8,padding='same', kernel_initializer='he_uniform')(pre)\n",
    "    conv_x = BatchNormalization()(conv_x)\n",
    "    conv_x = Activation('relu')(conv_x)\n",
    "    conv_x = Dropout(0.3)(conv_x)\n",
    "    conv_x = Conv1D(filters=n_feature_maps*2, kernel_size=5,padding='same', kernel_initializer='he_uniform')(conv_x)\n",
    "    conv_x = BatchNormalization()(conv_x)\n",
    "    conv_x = Activation('relu')(conv_x)\n",
    "    conv_x = Dropout(0.3)(conv_x)\n",
    "    conv_x = Conv1D(filters=n_feature_maps, kernel_size=3,padding='same', kernel_initializer='he_uniform')(conv_x)\n",
    "    pre= AutoPool1D()(pre)\n",
    "    output_block_1 = add([conv_x, pre])\n",
    "    # '''The Adapted SE BLOCK 1'''\n",
    "    output_block_1 = squeeze_excite_block(output_block_1)\n",
    "    \n",
    "    # '''The RESIDUAL BLOCK 2'''\n",
    "    conv_x = Conv1D(filters=n_feature_maps, kernel_size=8,padding='same', kernel_initializer='he_uniform')(output_block_1)\n",
    "    conv_x = BatchNormalization()(conv_x)\n",
    "    conv_x = Activation('relu')(conv_x)\n",
    "    conv_x = Dropout(0.3)(conv_x)\n",
    "    conv_x = Conv1D(filters=n_feature_maps*2, kernel_size=5,padding='same', kernel_initializer='he_uniform')(conv_x)\n",
    "    conv_x = BatchNormalization()(conv_x)\n",
    "    conv_x = Activation('relu')(conv_x)\n",
    "    conv_x = Dropout(0.3)(conv_x)\n",
    "    conv_x = Conv1D(filters=n_feature_maps, kernel_size=3, padding='same', kernel_initializer='he_uniform')(conv_x)\n",
    "    pre= AutoPool1D()(output_block_1)\n",
    "    output_block_2 = add([conv_x, pre])\n",
    "    \n",
    "    # '''The Adapted SE BLOCK 2'''\n",
    "    output_block_2 = squeeze_excite_block(output_block_2)\n",
    "   \n",
    "    # '''The RESIDUAL BLOCK 3'''\n",
    "    conv_x = Conv1D(filters=n_feature_maps, kernel_size=8, padding='same', kernel_initializer='he_uniform')(output_block_2)\n",
    "    conv_x = BatchNormalization()(conv_x)\n",
    "    conv_x = Activation('relu')(conv_x)\n",
    "    conv_x = Dropout(0.3)(conv_x)\n",
    "    conv_x = Conv1D(filters=n_feature_maps*2, kernel_size=5, padding='same', kernel_initializer='he_uniform')(conv_x)\n",
    "    conv_x = BatchNormalization()(conv_x)\n",
    "    conv_x = Activation('relu')(conv_x)\n",
    "    conv_x = Dropout(0.3)(conv_x)\n",
    "    conv_x = Conv1D(filters=n_feature_maps, kernel_size=3, padding='same', kernel_initializer='he_uniform')(conv_x)\n",
    "    pre= AutoPool1D()(output_block_2)\n",
    "    output_block_3 = add([conv_x, pre])\n",
    "    \n",
    "    # '''The Adapted SE BLOCK 3'''\n",
    "    output_block_3 = squeeze_excite_block(output_block_3)\n",
    "\n",
    "    y = BatchNormalization()(output_block_3)\n",
    "    y = Activation('relu')(y)\n",
    "    y = GlobalAveragePooling1D()(y)\n",
    "    \n",
    "    # '''Concatenation of the Temporal representation(i.e. generated from first path) and Spatial representation (i.e. generated from first path)'''\n",
    "    x = concatenate([x, y])\n",
    "\n",
    "    out = Dense(NB_CLASS, activation='softmax')(x)\n",
    "\n",
    "    model = Model(ip, out)\n",
    "    model.summary()\n",
    "\n",
    "    # add load model code here to fine-tune\n",
    "\n",
    "    return model"
   ]
  },
  {
   "cell_type": "code",
   "execution_count": null,
   "metadata": {
    "colab": {
     "base_uri": "https://localhost:8080/",
     "height": 1000
    },
    "colab_type": "code",
    "id": "D8FIpauRIraP",
    "outputId": "a4060aa2-3230-4943-9a30-a4f5de828aa9"
   },
   "outputs": [],
   "source": [
    "if __name__ == \"__main__\":\n",
    "    model = create_ST_DeepHAR()\n",
    "\n",
    "    train_model(model, DATASET_INDEX, dataset_prefix='har', epochs=200, batch_size=200)\n",
    "\n",
    "    evaluate_model(model, DATASET_INDEX, dataset_prefix='har', batch_size=200)"
   ]
  }
 ],
 "metadata": {
  "accelerator": "GPU",
  "colab": {
   "authorship_tag": "ABX9TyMcBvMr/LYS5wBRPH8vo/Im",
   "collapsed_sections": [],
   "name": "Untitled0.ipynb",
   "provenance": []
  },
  "kernelspec": {
   "display_name": "Python 3",
   "language": "python",
   "name": "python3"
  },
  "language_info": {
   "codemirror_mode": {
    "name": "ipython",
    "version": 3
   },
   "file_extension": ".py",
   "mimetype": "text/x-python",
   "name": "python",
   "nbconvert_exporter": "python",
   "pygments_lexer": "ipython3",
   "version": "3.7.4"
  }
 },
 "nbformat": 4,
 "nbformat_minor": 1
}
